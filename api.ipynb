{
 "cells": [
  {
   "cell_type": "code",
   "execution_count": 1,
   "metadata": {},
   "outputs": [],
   "source": [
    "from dream_factory_evals.dream_factory_mcp import get_table_records\n",
    "\n",
    "%load_ext autoreload\n",
    "%autoreload 2"
   ]
  },
  {
   "cell_type": "code",
   "execution_count": 2,
   "metadata": {},
   "outputs": [],
   "source": [
    "table_name = \"hr_employees\""
   ]
  },
  {
   "cell_type": "code",
   "execution_count": null,
   "metadata": {},
   "outputs": [],
   "source": [
    "get_table_records(table_name=table_name, filter=\"(first_name != 'Alice')\", order_field=\"employee_id\")"
   ]
  },
  {
   "cell_type": "code",
   "execution_count": 4,
   "metadata": {},
   "outputs": [],
   "source": [
    "tables = {\n",
    "    \"resource\": [\n",
    "        {\"name\": \"finance_expenses\"},\n",
    "        {\"name\": \"finance_products\"},\n",
    "        {\"name\": \"finance_revenues\"},\n",
    "        {\"name\": \"hr_departments\"},\n",
    "        {\"name\": \"hr_employees\"},\n",
    "        {\"name\": \"hr_policies\"},\n",
    "        {\"name\": \"ops_machines\"},\n",
    "        {\"name\": \"ops_maintenance\"},\n",
    "    ]\n",
    "}\n"
   ]
  },
  {
   "cell_type": "code",
   "execution_count": null,
   "metadata": {},
   "outputs": [],
   "source": [
    "','.join([\"*\"])"
   ]
  },
  {
   "cell_type": "code",
   "execution_count": null,
   "metadata": {},
   "outputs": [],
   "source": [
    "httpx.get(\n",
    "    url=f\"{base_url}/_table/hr_employees\",\n",
    "    headers=headers,\n",
    "    params={\"ids\": \"1,2,3\", \"fields\": \"*\"},\n",
    ").json()"
   ]
  },
  {
   "cell_type": "code",
   "execution_count": null,
   "metadata": {},
   "outputs": [],
   "source": [
    "httpx.get(url=f\"{base_url}/_table/hr_employees\", headers=headers).json()"
   ]
  },
  {
   "cell_type": "code",
   "execution_count": null,
   "metadata": {},
   "outputs": [],
   "source": []
  }
 ],
 "metadata": {
  "kernelspec": {
   "display_name": ".venv",
   "language": "python",
   "name": "python3"
  },
  "language_info": {
   "codemirror_mode": {
    "name": "ipython",
    "version": 3
   },
   "file_extension": ".py",
   "mimetype": "text/x-python",
   "name": "python",
   "nbconvert_exporter": "python",
   "pygments_lexer": "ipython3",
   "version": "3.12.7"
  }
 },
 "nbformat": 4,
 "nbformat_minor": 2
}
