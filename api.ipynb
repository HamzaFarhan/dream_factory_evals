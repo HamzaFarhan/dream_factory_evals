{
 "cells": [
  {
   "cell_type": "code",
   "execution_count": 1,
   "metadata": {},
   "outputs": [],
   "source": [
    "from dream_factory_evals.dream_factory_mcp import get_table_records\n",
    "\n",
    "%load_ext autoreload\n",
    "%autoreload 2"
   ]
  },
  {
   "cell_type": "code",
   "execution_count": 2,
   "metadata": {},
   "outputs": [],
   "source": [
    "table_name = \"hr_employees\""
   ]
  },
  {
   "cell_type": "code",
   "execution_count": 4,
   "metadata": {},
   "outputs": [
    {
     "name": "stderr",
     "output_type": "stream",
     "text": [
      "[autoreload of dream_factory_evals.dream_factory_mcp failed: Traceback (most recent call last):\n",
      "  File \"/home/hamza/dev/dream_factory_evals/.venv/lib/python3.12/site-packages/IPython/extensions/autoreload.py\", line 283, in check\n",
      "    superreload(m, reload, self.old_objects)\n",
      "  File \"/home/hamza/dev/dream_factory_evals/.venv/lib/python3.12/site-packages/IPython/extensions/autoreload.py\", line 483, in superreload\n",
      "    module = reload(module)\n",
      "             ^^^^^^^^^^^^^^\n",
      "  File \"/home/hamza/.local/share/uv/python/cpython-3.12.7-linux-x86_64-gnu/lib/python3.12/importlib/__init__.py\", line 131, in reload\n",
      "    _bootstrap._exec(spec, module)\n",
      "  File \"<frozen importlib._bootstrap>\", line 866, in _exec\n",
      "  File \"<frozen importlib._bootstrap_external>\", line 995, in exec_module\n",
      "  File \"<frozen importlib._bootstrap>\", line 488, in _call_with_frames_removed\n",
      "  File \"/home/hamza/dev/dream_factory_evals/src/dream_factory_evals/dream_factory_mcp.py\", line 6, in <module>\n",
      "    BASE_URL = os.environ[\"BASE_URL\"]\n",
      "               ~~~~~~~~~~^^^^^^^^^^^^\n",
      "  File \"<frozen os>\", line 714, in __getitem__\n",
      "KeyError: 'BASE_URL'\n",
      "]\n"
     ]
    },
    {
     "data": {
      "text/plain": [
       "{'resource': [{'employee_id': 1,\n",
       "   'first_name': 'Alice',\n",
       "   'last_name': 'Johnson',\n",
       "   'email': 'alice.johnson@example.com',\n",
       "   'date_joined': '2022-01-15',\n",
       "   'department_id': 1,\n",
       "   'role': 'Staff'}]}"
      ]
     },
     "execution_count": 4,
     "metadata": {},
     "output_type": "execute_result"
    }
   ],
   "source": [
    "get_table_records(table_name=table_name, filter=\"(first_name = 'Alice')\")"
   ]
  },
  {
   "cell_type": "code",
   "execution_count": 4,
   "metadata": {},
   "outputs": [],
   "source": [
    "tables = {\n",
    "    \"resource\": [\n",
    "        {\"name\": \"finance_expenses\"},\n",
    "        {\"name\": \"finance_products\"},\n",
    "        {\"name\": \"finance_revenues\"},\n",
    "        {\"name\": \"hr_departments\"},\n",
    "        {\"name\": \"hr_employees\"},\n",
    "        {\"name\": \"hr_policies\"},\n",
    "        {\"name\": \"ops_machines\"},\n",
    "        {\"name\": \"ops_maintenance\"},\n",
    "    ]\n",
    "}\n"
   ]
  },
  {
   "cell_type": "code",
   "execution_count": null,
   "metadata": {},
   "outputs": [],
   "source": [
    "','.join([\"*\"])"
   ]
  },
  {
   "cell_type": "code",
   "execution_count": null,
   "metadata": {},
   "outputs": [],
   "source": [
    "httpx.get(\n",
    "    url=f\"{base_url}/_table/hr_employees\",\n",
    "    headers=headers,\n",
    "    params={\"ids\": \"1,2,3\", \"fields\": \"*\"},\n",
    ").json()"
   ]
  },
  {
   "cell_type": "code",
   "execution_count": null,
   "metadata": {},
   "outputs": [],
   "source": [
    "httpx.get(url=f\"{base_url}/_table/hr_employees\", headers=headers).json()"
   ]
  },
  {
   "cell_type": "code",
   "execution_count": null,
   "metadata": {},
   "outputs": [],
   "source": []
  }
 ],
 "metadata": {
  "kernelspec": {
   "display_name": ".venv",
   "language": "python",
   "name": "python3"
  },
  "language_info": {
   "codemirror_mode": {
    "name": "ipython",
    "version": 3
   },
   "file_extension": ".py",
   "mimetype": "text/x-python",
   "name": "python",
   "nbconvert_exporter": "python",
   "pygments_lexer": "ipython3",
   "version": "3.12.7"
  }
 },
 "nbformat": 4,
 "nbformat_minor": 2
}
